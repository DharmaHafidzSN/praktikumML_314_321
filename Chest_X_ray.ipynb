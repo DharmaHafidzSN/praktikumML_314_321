{
  "nbformat": 4,
  "nbformat_minor": 0,
  "metadata": {
    "colab": {
      "name": "Chest X-ray.ipynb",
      "provenance": [],
      "collapsed_sections": [],
      "include_colab_link": true
    },
    "kernelspec": {
      "name": "python3",
      "display_name": "Python 3"
    },
    "language_info": {
      "name": "python"
    }
  },
  "cells": [
    {
      "cell_type": "markdown",
      "metadata": {
        "id": "view-in-github",
        "colab_type": "text"
      },
      "source": [
        "<a href=\"https://colab.research.google.com/github/DharmaHafidzSN/praktikumML_314_321/blob/Praktikum/Chest_X_ray.ipynb\" target=\"_parent\"><img src=\"https://colab.research.google.com/assets/colab-badge.svg\" alt=\"Open In Colab\"/></a>"
      ]
    },
    {
      "cell_type": "code",
      "metadata": {
        "colab": {
          "base_uri": "https://localhost:8080/"
        },
        "id": "OLidCrBbSH5h",
        "outputId": "7268845d-f4e5-4311-dcde-ae6aea7d875e"
      },
      "source": [
        "from google.colab import drive\n",
        "drive.mount(\"/content/gdrive\", force_remount=True)"
      ],
      "execution_count": null,
      "outputs": [
        {
          "output_type": "stream",
          "name": "stdout",
          "text": [
            "Mounted at /content/gdrive\n"
          ]
        }
      ]
    },
    {
      "cell_type": "code",
      "metadata": {
        "colab": {
          "base_uri": "https://localhost:8080/"
        },
        "id": "NT6o_PwlVfnn",
        "outputId": "b9358988-1436-4611-f4e6-722b9a45a5c1"
      },
      "source": [
        "!pip install kaggle"
      ],
      "execution_count": null,
      "outputs": [
        {
          "output_type": "stream",
          "name": "stdout",
          "text": [
            "Requirement already satisfied: kaggle in /usr/local/lib/python3.7/dist-packages (1.5.12)\n",
            "Requirement already satisfied: requests in /usr/local/lib/python3.7/dist-packages (from kaggle) (2.23.0)\n",
            "Requirement already satisfied: python-dateutil in /usr/local/lib/python3.7/dist-packages (from kaggle) (2.8.2)\n",
            "Requirement already satisfied: certifi in /usr/local/lib/python3.7/dist-packages (from kaggle) (2021.5.30)\n",
            "Requirement already satisfied: six>=1.10 in /usr/local/lib/python3.7/dist-packages (from kaggle) (1.15.0)\n",
            "Requirement already satisfied: python-slugify in /usr/local/lib/python3.7/dist-packages (from kaggle) (5.0.2)\n",
            "Requirement already satisfied: tqdm in /usr/local/lib/python3.7/dist-packages (from kaggle) (4.62.3)\n",
            "Requirement already satisfied: urllib3 in /usr/local/lib/python3.7/dist-packages (from kaggle) (1.24.3)\n",
            "Requirement already satisfied: text-unidecode>=1.3 in /usr/local/lib/python3.7/dist-packages (from python-slugify->kaggle) (1.3)\n",
            "Requirement already satisfied: idna<3,>=2.5 in /usr/local/lib/python3.7/dist-packages (from requests->kaggle) (2.10)\n",
            "Requirement already satisfied: chardet<4,>=3.0.2 in /usr/local/lib/python3.7/dist-packages (from requests->kaggle) (3.0.4)\n"
          ]
        }
      ]
    },
    {
      "cell_type": "code",
      "metadata": {
        "colab": {
          "base_uri": "https://localhost:8080/"
        },
        "id": "DdS900v_Vhxg",
        "outputId": "f859ede0-da18-447f-c55a-0720e57db450"
      },
      "source": [
        "%cd /content/gdrive/MyDrive/content/sample_data/"
      ],
      "execution_count": null,
      "outputs": [
        {
          "output_type": "stream",
          "name": "stdout",
          "text": [
            "[Errno 2] No such file or directory: '/content/gdrive/MyDrive/content/sample_data/'\n",
            "/content\n"
          ]
        }
      ]
    },
    {
      "cell_type": "code",
      "metadata": {
        "id": "To7VBDpjVm79"
      },
      "source": [
        "import os\n",
        "os.environ['KAGGLE_CONFIG_DIR'] = \"/tmp/\""
      ],
      "execution_count": null,
      "outputs": []
    },
    {
      "cell_type": "code",
      "metadata": {
        "id": "BHKCIYjVVoNW"
      },
      "source": [
        "# jika anda ingin menggunakan kaggle API untuk mengunduh dataset gunakan\n",
        "# kode berikut untuk membantu anda membuat config kaggle.json\n",
        "# pastikan anda mendaftar akun kaggle terlebih dahulu\n",
        "# kemudian menuju halaman my account dan buat token API anda\n",
        "\n",
        "api_token = {\"username\":\"bibitpamungkas\",\"key\":\"0b4a500fd9a858ee152de296398002ab\"}\n",
        "import json\n",
        "import zipfile\n",
        "import os\n",
        "with open('/tmp/kaggle.json', 'w') as file:\n",
        "    json.dump(api_token, file)\n",
        "!chmod 600 /tmp/kaggle.json"
      ],
      "execution_count": null,
      "outputs": []
    },
    {
      "cell_type": "code",
      "metadata": {
        "colab": {
          "base_uri": "https://localhost:8080/"
        },
        "id": "6GLqIFi7VtBq",
        "outputId": "3a3c5e67-4615-4e67-c0ac-5c900230bfd4"
      },
      "source": [
        "!kaggle datasets download -d jtiptj/chest-xray-pneumoniacovid19tuberculosis"
      ],
      "execution_count": null,
      "outputs": [
        {
          "output_type": "stream",
          "name": "stdout",
          "text": [
            "Downloading chest-xray-pneumoniacovid19tuberculosis.zip to /content\n",
            " 99% 1.72G/1.74G [00:13<00:00, 78.5MB/s]\n",
            "100% 1.74G/1.74G [00:13<00:00, 136MB/s] \n"
          ]
        }
      ]
    },
    {
      "cell_type": "code",
      "metadata": {
        "id": "VN5_ChJdWesQ"
      },
      "source": [
        "# Ekstrak dataset\n",
        "\n",
        "import os\n",
        "import zipfile\n",
        "\n",
        "os.makedirs('/tmp/chest-xray-pneumoniacovid19tuberculosis')\n",
        "\n",
        "local_zip = '/content/chest-xray-pneumoniacovid19tuberculosis.zip'\n",
        "zip_ref = zipfile.ZipFile(local_zip, 'r')\n",
        "zip_ref.extractall('/tmp/chest-xray-pneumoniacovid19tuberculosis')\n",
        "zip_ref.close()"
      ],
      "execution_count": null,
      "outputs": []
    },
    {
      "cell_type": "code",
      "metadata": {
        "colab": {
          "base_uri": "https://localhost:8080/"
        },
        "id": "qa950CRYMDfR",
        "outputId": "1e7d20c9-797b-40ba-8394-d361100ff015"
      },
      "source": [
        "import os\n",
        "base_dir = '/tmp/chest-xray-pneumoniacovid19tuberculosis'\n",
        "train = os.path.join(base_dir,'train')\n",
        "validation = os.path.join(base_dir,'val')\n",
        "test = os.path.join(base_dir,'test')\n",
        "\n",
        "c19_tr = os.path.join(train,'COVID19')\n",
        "c19_va = os.path.join(validation,'COVID19')\n",
        "c19_ts = os.path.join(test,'COVID19')\n",
        "\n",
        "nr_tr = os.path.join(train,'NORMAL')\n",
        "nr_va = os.path.join(validation,'NORMAL')\n",
        "nr_ts = os.path.join(test,'NORMAL')\n",
        "\n",
        "pn_tr = os.path.join(train,'PNEUMONIA')\n",
        "pn_va = os.path.join(validation,'PNEUMONIA')\n",
        "pn_ts = os.path.join(test,'PNEUMONIA')\n",
        "\n",
        "tb_tr = os.path.join(train,'TURBERCULOSIS')\n",
        "tb_va = os.path.join(validation,'TURBERCULOSIS')\n",
        "tb_ts = os.path.join(test,'TURBERCULOSIS')\n",
        "\n",
        "#file training dan validation\n",
        "file_train_c19 = os.listdir(c19_tr)\n",
        "file_validation_c19 = os.listdir(c19_va)\n",
        "file_test_c19 = os.listdir(c19_ts)\n",
        "file_train_nr = os.listdir(nr_tr)\n",
        "file_validation_nr = os.listdir(nr_va)\n",
        "file_test_nr = os.listdir(nr_ts)\n",
        "file_train_pn = os.listdir(pn_tr)\n",
        "file_validation_pn = os.listdir(pn_va)\n",
        "file_test_pn = os.listdir(pn_ts)\n",
        "file_train_tb = os.listdir(tb_tr)\n",
        "file_validation_tb = os.listdir(tb_va)\n",
        "file_test_tb = os.listdir(tb_ts)\n",
        "\n",
        "#Print jumlah data training dan validation\n",
        "print(\"Data COVID19 Train : \" + str(len(file_train_c19)))\n",
        "print(\"Data COVID19 Validation : \" + str(len(file_validation_c19)))\n",
        "print(\"Data COVID19 Test : \" + str(len(file_test_c19)))\n",
        "print(\"Data NORMAL Train : \" + str(len(file_train_nr)))\n",
        "print(\"Data NORMAL Validation : \" + str(len(file_validation_nr)))\n",
        "print(\"Data NORMAL Test : \" + str(len(file_test_nr)))\n",
        "print(\"Data PNEUMONIA Train : \" + str(len(file_train_pn)))\n",
        "print(\"Data PNEUMONIA Validation : \" + str(len(file_validation_pn)))\n",
        "print(\"Data PNEUMONIA Test : \" + str(len(file_test_pn)))\n",
        "print(\"Data TURBERCULOSIS Train : \" + str(len(file_train_tb)))\n",
        "print(\"Data TURBERCULOSIS Validation : \" + str(len(file_validation_tb)))\n",
        "print(\"Data TURBERCULOSIS Test : \" + str(len(file_test_tb)))"
      ],
      "execution_count": null,
      "outputs": [
        {
          "output_type": "stream",
          "name": "stdout",
          "text": [
            "Data COVID19 Train : 460\n",
            "Data COVID19 Validation : 10\n",
            "Data COVID19 Test : 106\n",
            "Data NORMAL Train : 1341\n",
            "Data NORMAL Validation : 8\n",
            "Data NORMAL Test : 234\n",
            "Data PNEUMONIA Train : 3875\n",
            "Data PNEUMONIA Validation : 8\n",
            "Data PNEUMONIA Test : 390\n",
            "Data TURBERCULOSIS Train : 650\n",
            "Data TURBERCULOSIS Validation : 12\n",
            "Data TURBERCULOSIS Test : 41\n"
          ]
        }
      ]
    },
    {
      "cell_type": "code",
      "metadata": {
        "id": "TK7ERVu_owEJ"
      },
      "source": [
        "import cv2\n",
        "import numpy as np\n",
        "\n",
        "#gather data train\n",
        "train_data = []\n",
        "train_label = []\n",
        "\n",
        "for r, d, f in os.walk(train) :\n",
        "    for file in f:\n",
        "        if \".jpg\" in file:\n",
        "            imagePath = os.path.join(r, file)\n",
        "            image = cv2.imread(imagePath)\n",
        "            image = cv2.resize(image, (150,150))\n",
        "            train_data.append(image)\n",
        "            label = imagePath.split(os.path.sep)[-2]\n",
        "            train_label.append(label)\n",
        "\n",
        "train_data = np.array(train_data)\n",
        "train_label = np.array(train_label)"
      ],
      "execution_count": null,
      "outputs": []
    },
    {
      "cell_type": "code",
      "metadata": {
        "id": "ePUakmFdpLQR"
      },
      "source": [
        "# Gather data validation\n",
        "val_data = []\n",
        "val_label = []\n",
        "\n",
        "for r, d, f in os.walk(validation) :\n",
        "    for file in f:\n",
        "        if \".jpg\" in file:\n",
        "            imagePath = os.path.join(r, file)\n",
        "            image = cv2.imread(imagePath)\n",
        "            image = cv2.resize(image, (150,150))\n",
        "            val_data.append(image)\n",
        "            label = imagePath.split(os.path.sep)[-2]\n",
        "            val_label.append(label)\n",
        "\n",
        "val_data = np.array(val_data)\n",
        "val_label = np.array(val_label)"
      ],
      "execution_count": null,
      "outputs": []
    },
    {
      "cell_type": "code",
      "metadata": {
        "id": "haFyyCvGpOqd",
        "colab": {
          "base_uri": "https://localhost:8080/"
        },
        "outputId": "c6ef85ba-b938-47c7-a3db-c7823ac13afb"
      },
      "source": [
        "# Tampilkan shape dari data train dan data validation\n",
        "print(\"Train Data = \", train_data.shape)\n",
        "print(\"Train label = \", train_label.shape)\n",
        "print(\"Validation Data = \", val_data.shape)\n",
        "print(\"Validation label = \", val_label.shape)"
      ],
      "execution_count": null,
      "outputs": [
        {
          "output_type": "stream",
          "name": "stdout",
          "text": [
            "Train Data =  (460, 150, 150, 3)\n",
            "Train label =  (460,)\n",
            "Validation Data =  (10, 150, 150, 3)\n",
            "Validation label =  (10,)\n"
          ]
        }
      ]
    },
    {
      "cell_type": "code",
      "metadata": {
        "id": "DNNFgdCupR2U",
        "colab": {
          "base_uri": "https://localhost:8080/"
        },
        "outputId": "a968c778-0d23-4a93-bd7f-18dc6706d6be"
      },
      "source": [
        "# Normalisasi dataset\n",
        "print(\"Data sebelum di-normalisasi \", train_data[0][0][0])\n",
        "\n",
        "x_train = train_data.astype('float32') / 255.0\n",
        "x_val = val_data.astype('float32') / 255.0\n",
        "print(\"Data setelah di-normalisasi \", x_train[0][0][0])"
      ],
      "execution_count": null,
      "outputs": [
        {
          "output_type": "stream",
          "name": "stdout",
          "text": [
            "Data sebelum di-normalisasi  [94 94 94]\n",
            "Data setelah di-normalisasi  [0.36862746 0.36862746 0.36862746]\n"
          ]
        }
      ]
    },
    {
      "cell_type": "code",
      "metadata": {
        "id": "CJGId-36pTww",
        "colab": {
          "base_uri": "https://localhost:8080/"
        },
        "outputId": "1d326de0-211c-4b1d-f678-ff91052da9ee"
      },
      "source": [
        "# Transformasi label encoder\n",
        "from sklearn.preprocessing import LabelEncoder\n",
        "\n",
        "print(\"label sebelum di-encoder \", train_label[100:105])\n",
        "print(\"label sebelum di-encoder \", train_label[1:5])\n",
        "\n",
        "lb = LabelEncoder()\n",
        "y_train = lb.fit_transform(train_label)\n",
        "y_val = lb.fit_transform(val_label)\n",
        "\n",
        "print(\"label setelah di-encoder \", y_train[100:105])\n",
        "print(\"label setelah di-encoder \", y_train[1:5])"
      ],
      "execution_count": null,
      "outputs": [
        {
          "output_type": "stream",
          "name": "stdout",
          "text": [
            "label sebelum di-encoder  ['COVID19' 'COVID19' 'COVID19' 'COVID19' 'COVID19']\n",
            "label sebelum di-encoder  ['COVID19' 'COVID19' 'COVID19' 'COVID19']\n",
            "label setelah di-encoder  [0 0 0 0 0]\n",
            "label setelah di-encoder  [0 0 0 0]\n"
          ]
        }
      ]
    },
    {
      "cell_type": "code",
      "metadata": {
        "id": "5mNtqiW_aQRB",
        "colab": {
          "base_uri": "https://localhost:8080/"
        },
        "outputId": "f255d217-4d6e-4dbb-cfbb-b5735bfa38c6"
      },
      "source": [
        "# Tulis Kode Anda Disini\n",
        "from tensorflow.keras.models import Sequential\n",
        "from tensorflow.keras.layers import InputLayer, Dense, Conv2D, MaxPool2D, Flatten, GlobalMaxPooling2D, AveragePooling2D, GlobalMaxPooling2D\n",
        "\n",
        "# Model Scenario Pertama\n",
        "# Feature Extraction Layer\n",
        "model = Sequential()\n",
        "\n",
        "model.add(InputLayer(input_shape=[150,150,3]))\n",
        "model.add(Conv2D(filters=16, kernel_size=3, strides=1, padding='same', activation='relu'))\n",
        "model.add(MaxPool2D(pool_size=2, padding='same'))\n",
        "model.add(Conv2D(filters=32, kernel_size=3, strides=1, padding='same', activation='relu'))\n",
        "model.add(MaxPool2D(pool_size=2, padding='same'))\n",
        "model.add(Conv2D(filters=64, kernel_size=3, strides=1, padding='same', activation='relu'))\n",
        "model.add(MaxPool2D(pool_size=2, padding='same'))\n",
        "model.add(GlobalMaxPooling2D())\n",
        "model.add(Flatten())\n",
        "\n",
        "# Fully Connected Layer\n",
        "model.add(Dense(128, activation='relu'))\n",
        "model.add(Dense(1, activation='sigmoid'))\n",
        "\n",
        "print(model.summary())"
      ],
      "execution_count": null,
      "outputs": [
        {
          "output_type": "stream",
          "name": "stdout",
          "text": [
            "Model: \"sequential_2\"\n",
            "_________________________________________________________________\n",
            "Layer (type)                 Output Shape              Param #   \n",
            "=================================================================\n",
            "conv2d_6 (Conv2D)            (None, 150, 150, 16)      448       \n",
            "_________________________________________________________________\n",
            "max_pooling2d_3 (MaxPooling2 (None, 75, 75, 16)        0         \n",
            "_________________________________________________________________\n",
            "conv2d_7 (Conv2D)            (None, 75, 75, 32)        4640      \n",
            "_________________________________________________________________\n",
            "max_pooling2d_4 (MaxPooling2 (None, 38, 38, 32)        0         \n",
            "_________________________________________________________________\n",
            "conv2d_8 (Conv2D)            (None, 38, 38, 64)        18496     \n",
            "_________________________________________________________________\n",
            "max_pooling2d_5 (MaxPooling2 (None, 19, 19, 64)        0         \n",
            "_________________________________________________________________\n",
            "global_max_pooling2d_1 (Glob (None, 64)                0         \n",
            "_________________________________________________________________\n",
            "flatten_2 (Flatten)          (None, 64)                0         \n",
            "_________________________________________________________________\n",
            "dense_4 (Dense)              (None, 128)               8320      \n",
            "_________________________________________________________________\n",
            "dense_5 (Dense)              (None, 1)                 129       \n",
            "=================================================================\n",
            "Total params: 32,033\n",
            "Trainable params: 32,033\n",
            "Non-trainable params: 0\n",
            "_________________________________________________________________\n",
            "None\n"
          ]
        }
      ]
    },
    {
      "cell_type": "code",
      "metadata": {
        "id": "zGM8R5sMaSG7",
        "colab": {
          "base_uri": "https://localhost:8080/"
        },
        "outputId": "65a63d68-1896-4496-8285-e353d3ede976"
      },
      "source": [
        "# Compile model\n",
        "from tensorflow.keras.optimizers import Adam\n",
        "\n",
        "model.compile(optimizer=Adam(lr=0.001), \n",
        "              loss='binary_crossentropy', \n",
        "              metrics=['acc'])"
      ],
      "execution_count": null,
      "outputs": [
        {
          "output_type": "stream",
          "name": "stderr",
          "text": [
            "/usr/local/lib/python3.7/dist-packages/keras/optimizer_v2/optimizer_v2.py:356: UserWarning: The `lr` argument is deprecated, use `learning_rate` instead.\n",
            "  \"The `lr` argument is deprecated, use `learning_rate` instead.\")\n"
          ]
        }
      ]
    },
    {
      "cell_type": "code",
      "metadata": {
        "id": "-imvGamcaTv4",
        "colab": {
          "base_uri": "https://localhost:8080/"
        },
        "outputId": "7efefe21-7f57-4e31-e2c5-2d8145cb82be"
      },
      "source": [
        "H = model.fit(x_train, y_train, batch_size=20, epochs=100, validation_data=(x_val, y_val))"
      ],
      "execution_count": null,
      "outputs": [
        {
          "output_type": "stream",
          "name": "stdout",
          "text": [
            "Epoch 1/100\n",
            "23/23 [==============================] - 8s 314ms/step - loss: 0.1784 - acc: 0.9478 - val_loss: 2.0718e-07 - val_acc: 1.0000\n",
            "Epoch 2/100\n",
            "23/23 [==============================] - 7s 306ms/step - loss: 1.3714e-07 - acc: 1.0000 - val_loss: 5.6855e-11 - val_acc: 1.0000\n",
            "Epoch 3/100\n",
            "23/23 [==============================] - 7s 304ms/step - loss: 1.6208e-09 - acc: 1.0000 - val_loss: 1.8549e-11 - val_acc: 1.0000\n",
            "Epoch 4/100\n",
            "23/23 [==============================] - 7s 304ms/step - loss: 1.0240e-09 - acc: 1.0000 - val_loss: 1.6426e-11 - val_acc: 1.0000\n",
            "Epoch 5/100\n",
            "23/23 [==============================] - 7s 305ms/step - loss: 9.9167e-10 - acc: 1.0000 - val_loss: 1.6224e-11 - val_acc: 1.0000\n",
            "Epoch 6/100\n",
            "23/23 [==============================] - 7s 304ms/step - loss: 9.8700e-10 - acc: 1.0000 - val_loss: 1.6203e-11 - val_acc: 1.0000\n",
            "Epoch 7/100\n",
            "23/23 [==============================] - 7s 304ms/step - loss: 9.8656e-10 - acc: 1.0000 - val_loss: 1.6202e-11 - val_acc: 1.0000\n",
            "Epoch 8/100\n",
            "23/23 [==============================] - 7s 303ms/step - loss: 9.8652e-10 - acc: 1.0000 - val_loss: 1.6201e-11 - val_acc: 1.0000\n",
            "Epoch 9/100\n",
            "23/23 [==============================] - 7s 304ms/step - loss: 9.8650e-10 - acc: 1.0000 - val_loss: 1.6201e-11 - val_acc: 1.0000\n",
            "Epoch 10/100\n",
            "23/23 [==============================] - 7s 307ms/step - loss: 9.8649e-10 - acc: 1.0000 - val_loss: 1.6201e-11 - val_acc: 1.0000\n",
            "Epoch 11/100\n",
            "23/23 [==============================] - 7s 304ms/step - loss: 9.8647e-10 - acc: 1.0000 - val_loss: 1.6200e-11 - val_acc: 1.0000\n",
            "Epoch 12/100\n",
            "23/23 [==============================] - 7s 305ms/step - loss: 9.8645e-10 - acc: 1.0000 - val_loss: 1.6200e-11 - val_acc: 1.0000\n",
            "Epoch 13/100\n",
            "23/23 [==============================] - 8s 360ms/step - loss: 9.8643e-10 - acc: 1.0000 - val_loss: 1.6199e-11 - val_acc: 1.0000\n",
            "Epoch 14/100\n",
            "23/23 [==============================] - 7s 306ms/step - loss: 9.8641e-10 - acc: 1.0000 - val_loss: 1.6199e-11 - val_acc: 1.0000\n",
            "Epoch 15/100\n",
            "23/23 [==============================] - 7s 305ms/step - loss: 9.8638e-10 - acc: 1.0000 - val_loss: 1.6198e-11 - val_acc: 1.0000\n",
            "Epoch 16/100\n",
            "23/23 [==============================] - 7s 304ms/step - loss: 9.8636e-10 - acc: 1.0000 - val_loss: 1.6198e-11 - val_acc: 1.0000\n",
            "Epoch 17/100\n",
            "23/23 [==============================] - 7s 304ms/step - loss: 9.8633e-10 - acc: 1.0000 - val_loss: 1.6197e-11 - val_acc: 1.0000\n",
            "Epoch 18/100\n",
            "23/23 [==============================] - 7s 306ms/step - loss: 9.8631e-10 - acc: 1.0000 - val_loss: 1.6196e-11 - val_acc: 1.0000\n",
            "Epoch 19/100\n",
            "23/23 [==============================] - 7s 305ms/step - loss: 9.8628e-10 - acc: 1.0000 - val_loss: 1.6196e-11 - val_acc: 1.0000\n",
            "Epoch 20/100\n",
            "23/23 [==============================] - 7s 306ms/step - loss: 9.8625e-10 - acc: 1.0000 - val_loss: 1.6195e-11 - val_acc: 1.0000\n",
            "Epoch 21/100\n",
            "23/23 [==============================] - 7s 305ms/step - loss: 9.8622e-10 - acc: 1.0000 - val_loss: 1.6195e-11 - val_acc: 1.0000\n",
            "Epoch 22/100\n",
            "23/23 [==============================] - 7s 303ms/step - loss: 9.8618e-10 - acc: 1.0000 - val_loss: 1.6194e-11 - val_acc: 1.0000\n",
            "Epoch 23/100\n",
            "23/23 [==============================] - 7s 304ms/step - loss: 9.8615e-10 - acc: 1.0000 - val_loss: 1.6193e-11 - val_acc: 1.0000\n",
            "Epoch 24/100\n",
            "23/23 [==============================] - 7s 304ms/step - loss: 9.8612e-10 - acc: 1.0000 - val_loss: 1.6192e-11 - val_acc: 1.0000\n",
            "Epoch 25/100\n",
            "23/23 [==============================] - 7s 305ms/step - loss: 9.8608e-10 - acc: 1.0000 - val_loss: 1.6191e-11 - val_acc: 1.0000\n",
            "Epoch 26/100\n",
            "23/23 [==============================] - 7s 304ms/step - loss: 9.8604e-10 - acc: 1.0000 - val_loss: 1.6191e-11 - val_acc: 1.0000\n",
            "Epoch 27/100\n",
            "23/23 [==============================] - 7s 304ms/step - loss: 9.8601e-10 - acc: 1.0000 - val_loss: 1.6190e-11 - val_acc: 1.0000\n",
            "Epoch 28/100\n",
            "23/23 [==============================] - 7s 305ms/step - loss: 9.8596e-10 - acc: 1.0000 - val_loss: 1.6189e-11 - val_acc: 1.0000\n",
            "Epoch 29/100\n",
            "23/23 [==============================] - 7s 304ms/step - loss: 9.8592e-10 - acc: 1.0000 - val_loss: 1.6188e-11 - val_acc: 1.0000\n",
            "Epoch 30/100\n",
            "23/23 [==============================] - 7s 303ms/step - loss: 9.8588e-10 - acc: 1.0000 - val_loss: 1.6187e-11 - val_acc: 1.0000\n",
            "Epoch 31/100\n",
            "23/23 [==============================] - 7s 304ms/step - loss: 9.8583e-10 - acc: 1.0000 - val_loss: 1.6186e-11 - val_acc: 1.0000\n",
            "Epoch 32/100\n",
            "23/23 [==============================] - 7s 306ms/step - loss: 9.8579e-10 - acc: 1.0000 - val_loss: 1.6185e-11 - val_acc: 1.0000\n",
            "Epoch 33/100\n",
            "23/23 [==============================] - 7s 305ms/step - loss: 9.8574e-10 - acc: 1.0000 - val_loss: 1.6184e-11 - val_acc: 1.0000\n",
            "Epoch 34/100\n",
            "23/23 [==============================] - 7s 306ms/step - loss: 9.8569e-10 - acc: 1.0000 - val_loss: 1.6183e-11 - val_acc: 1.0000\n",
            "Epoch 35/100\n",
            "23/23 [==============================] - 7s 305ms/step - loss: 9.8564e-10 - acc: 1.0000 - val_loss: 1.6181e-11 - val_acc: 1.0000\n",
            "Epoch 36/100\n",
            "23/23 [==============================] - 7s 304ms/step - loss: 9.8559e-10 - acc: 1.0000 - val_loss: 1.6180e-11 - val_acc: 1.0000\n",
            "Epoch 37/100\n",
            "23/23 [==============================] - 7s 304ms/step - loss: 9.8554e-10 - acc: 1.0000 - val_loss: 1.6179e-11 - val_acc: 1.0000\n",
            "Epoch 38/100\n",
            "23/23 [==============================] - 7s 306ms/step - loss: 9.8548e-10 - acc: 1.0000 - val_loss: 1.6178e-11 - val_acc: 1.0000\n",
            "Epoch 39/100\n",
            "23/23 [==============================] - 7s 305ms/step - loss: 9.8543e-10 - acc: 1.0000 - val_loss: 1.6177e-11 - val_acc: 1.0000\n",
            "Epoch 40/100\n",
            "23/23 [==============================] - 7s 304ms/step - loss: 9.8537e-10 - acc: 1.0000 - val_loss: 1.6175e-11 - val_acc: 1.0000\n",
            "Epoch 41/100\n",
            "23/23 [==============================] - 7s 304ms/step - loss: 9.8531e-10 - acc: 1.0000 - val_loss: 1.6174e-11 - val_acc: 1.0000\n",
            "Epoch 42/100\n",
            "23/23 [==============================] - 7s 302ms/step - loss: 9.8525e-10 - acc: 1.0000 - val_loss: 1.6173e-11 - val_acc: 1.0000\n",
            "Epoch 43/100\n",
            "23/23 [==============================] - 7s 303ms/step - loss: 9.8520e-10 - acc: 1.0000 - val_loss: 1.6172e-11 - val_acc: 1.0000\n",
            "Epoch 44/100\n",
            "23/23 [==============================] - 7s 303ms/step - loss: 9.8513e-10 - acc: 1.0000 - val_loss: 1.6170e-11 - val_acc: 1.0000\n",
            "Epoch 45/100\n",
            "23/23 [==============================] - 7s 303ms/step - loss: 9.8506e-10 - acc: 1.0000 - val_loss: 1.6169e-11 - val_acc: 1.0000\n",
            "Epoch 46/100\n",
            "23/23 [==============================] - 7s 304ms/step - loss: 9.8500e-10 - acc: 1.0000 - val_loss: 1.6167e-11 - val_acc: 1.0000\n",
            "Epoch 47/100\n",
            "23/23 [==============================] - 7s 304ms/step - loss: 9.8494e-10 - acc: 1.0000 - val_loss: 1.6165e-11 - val_acc: 1.0000\n",
            "Epoch 48/100\n",
            "23/23 [==============================] - 7s 303ms/step - loss: 9.8486e-10 - acc: 1.0000 - val_loss: 1.6164e-11 - val_acc: 1.0000\n",
            "Epoch 49/100\n",
            "23/23 [==============================] - 7s 303ms/step - loss: 9.8480e-10 - acc: 1.0000 - val_loss: 1.6162e-11 - val_acc: 1.0000\n",
            "Epoch 50/100\n",
            "23/23 [==============================] - 7s 303ms/step - loss: 9.8472e-10 - acc: 1.0000 - val_loss: 1.6161e-11 - val_acc: 1.0000\n",
            "Epoch 51/100\n",
            "23/23 [==============================] - 7s 302ms/step - loss: 9.8464e-10 - acc: 1.0000 - val_loss: 1.6160e-11 - val_acc: 1.0000\n",
            "Epoch 52/100\n",
            "23/23 [==============================] - 7s 303ms/step - loss: 9.8457e-10 - acc: 1.0000 - val_loss: 1.6158e-11 - val_acc: 1.0000\n",
            "Epoch 53/100\n",
            "23/23 [==============================] - 7s 305ms/step - loss: 9.8450e-10 - acc: 1.0000 - val_loss: 1.6156e-11 - val_acc: 1.0000\n",
            "Epoch 54/100\n",
            "23/23 [==============================] - 7s 303ms/step - loss: 9.8442e-10 - acc: 1.0000 - val_loss: 1.6154e-11 - val_acc: 1.0000\n",
            "Epoch 55/100\n",
            "23/23 [==============================] - 7s 303ms/step - loss: 9.8433e-10 - acc: 1.0000 - val_loss: 1.6152e-11 - val_acc: 1.0000\n",
            "Epoch 56/100\n",
            "23/23 [==============================] - 7s 304ms/step - loss: 9.8425e-10 - acc: 1.0000 - val_loss: 1.6151e-11 - val_acc: 1.0000\n",
            "Epoch 57/100\n",
            "23/23 [==============================] - 7s 305ms/step - loss: 9.8418e-10 - acc: 1.0000 - val_loss: 1.6149e-11 - val_acc: 1.0000\n",
            "Epoch 58/100\n",
            "23/23 [==============================] - 7s 305ms/step - loss: 9.8409e-10 - acc: 1.0000 - val_loss: 1.6147e-11 - val_acc: 1.0000\n",
            "Epoch 59/100\n",
            "23/23 [==============================] - 7s 304ms/step - loss: 9.8401e-10 - acc: 1.0000 - val_loss: 1.6145e-11 - val_acc: 1.0000\n",
            "Epoch 60/100\n",
            "23/23 [==============================] - 7s 302ms/step - loss: 9.8391e-10 - acc: 1.0000 - val_loss: 1.6143e-11 - val_acc: 1.0000\n",
            "Epoch 61/100\n",
            "23/23 [==============================] - 7s 304ms/step - loss: 9.8382e-10 - acc: 1.0000 - val_loss: 1.6141e-11 - val_acc: 1.0000\n",
            "Epoch 62/100\n",
            "23/23 [==============================] - 7s 305ms/step - loss: 9.8373e-10 - acc: 1.0000 - val_loss: 1.6139e-11 - val_acc: 1.0000\n",
            "Epoch 63/100\n",
            "23/23 [==============================] - 7s 303ms/step - loss: 9.8365e-10 - acc: 1.0000 - val_loss: 1.6137e-11 - val_acc: 1.0000\n",
            "Epoch 64/100\n",
            "23/23 [==============================] - 7s 304ms/step - loss: 9.8354e-10 - acc: 1.0000 - val_loss: 1.6135e-11 - val_acc: 1.0000\n",
            "Epoch 65/100\n",
            "23/23 [==============================] - 7s 305ms/step - loss: 9.8345e-10 - acc: 1.0000 - val_loss: 1.6133e-11 - val_acc: 1.0000\n",
            "Epoch 66/100\n",
            "23/23 [==============================] - 7s 306ms/step - loss: 9.8335e-10 - acc: 1.0000 - val_loss: 1.6131e-11 - val_acc: 1.0000\n",
            "Epoch 67/100\n",
            "23/23 [==============================] - 7s 305ms/step - loss: 9.8325e-10 - acc: 1.0000 - val_loss: 1.6128e-11 - val_acc: 1.0000\n",
            "Epoch 68/100\n",
            "23/23 [==============================] - 7s 303ms/step - loss: 9.8315e-10 - acc: 1.0000 - val_loss: 1.6126e-11 - val_acc: 1.0000\n",
            "Epoch 69/100\n",
            "23/23 [==============================] - 7s 304ms/step - loss: 9.8305e-10 - acc: 1.0000 - val_loss: 1.6124e-11 - val_acc: 1.0000\n",
            "Epoch 70/100\n",
            "23/23 [==============================] - 7s 303ms/step - loss: 9.8294e-10 - acc: 1.0000 - val_loss: 1.6122e-11 - val_acc: 1.0000\n",
            "Epoch 71/100\n",
            "23/23 [==============================] - 7s 305ms/step - loss: 9.8284e-10 - acc: 1.0000 - val_loss: 1.6119e-11 - val_acc: 1.0000\n",
            "Epoch 72/100\n",
            "23/23 [==============================] - 7s 303ms/step - loss: 9.8273e-10 - acc: 1.0000 - val_loss: 1.6117e-11 - val_acc: 1.0000\n",
            "Epoch 73/100\n",
            "23/23 [==============================] - 7s 303ms/step - loss: 9.8262e-10 - acc: 1.0000 - val_loss: 1.6114e-11 - val_acc: 1.0000\n",
            "Epoch 74/100\n",
            "23/23 [==============================] - 7s 304ms/step - loss: 9.8250e-10 - acc: 1.0000 - val_loss: 1.6112e-11 - val_acc: 1.0000\n",
            "Epoch 75/100\n",
            "23/23 [==============================] - 7s 304ms/step - loss: 9.8239e-10 - acc: 1.0000 - val_loss: 1.6109e-11 - val_acc: 1.0000\n",
            "Epoch 76/100\n",
            "23/23 [==============================] - 7s 303ms/step - loss: 9.8228e-10 - acc: 1.0000 - val_loss: 1.6106e-11 - val_acc: 1.0000\n",
            "Epoch 77/100\n",
            "23/23 [==============================] - 7s 303ms/step - loss: 9.8215e-10 - acc: 1.0000 - val_loss: 1.6105e-11 - val_acc: 1.0000\n",
            "Epoch 78/100\n",
            "23/23 [==============================] - 7s 302ms/step - loss: 9.8204e-10 - acc: 1.0000 - val_loss: 1.6102e-11 - val_acc: 1.0000\n",
            "Epoch 79/100\n",
            "23/23 [==============================] - 7s 303ms/step - loss: 9.8192e-10 - acc: 1.0000 - val_loss: 1.6099e-11 - val_acc: 1.0000\n",
            "Epoch 80/100\n",
            "23/23 [==============================] - 7s 303ms/step - loss: 9.8178e-10 - acc: 1.0000 - val_loss: 1.6096e-11 - val_acc: 1.0000\n",
            "Epoch 81/100\n",
            "23/23 [==============================] - 7s 300ms/step - loss: 9.8166e-10 - acc: 1.0000 - val_loss: 1.6093e-11 - val_acc: 1.0000\n",
            "Epoch 82/100\n",
            "23/23 [==============================] - 7s 301ms/step - loss: 9.8153e-10 - acc: 1.0000 - val_loss: 1.6091e-11 - val_acc: 1.0000\n",
            "Epoch 83/100\n",
            "23/23 [==============================] - 7s 302ms/step - loss: 9.8140e-10 - acc: 1.0000 - val_loss: 1.6088e-11 - val_acc: 1.0000\n",
            "Epoch 84/100\n",
            "23/23 [==============================] - 7s 301ms/step - loss: 9.8128e-10 - acc: 1.0000 - val_loss: 1.6084e-11 - val_acc: 1.0000\n",
            "Epoch 85/100\n",
            "23/23 [==============================] - 7s 302ms/step - loss: 9.8112e-10 - acc: 1.0000 - val_loss: 1.6082e-11 - val_acc: 1.0000\n",
            "Epoch 86/100\n",
            "23/23 [==============================] - 7s 303ms/step - loss: 9.8099e-10 - acc: 1.0000 - val_loss: 1.6079e-11 - val_acc: 1.0000\n",
            "Epoch 87/100\n",
            "23/23 [==============================] - 7s 303ms/step - loss: 9.8086e-10 - acc: 1.0000 - val_loss: 1.6075e-11 - val_acc: 1.0000\n",
            "Epoch 88/100\n",
            "23/23 [==============================] - 7s 304ms/step - loss: 9.8071e-10 - acc: 1.0000 - val_loss: 1.6073e-11 - val_acc: 1.0000\n",
            "Epoch 89/100\n",
            "23/23 [==============================] - 7s 305ms/step - loss: 9.8057e-10 - acc: 1.0000 - val_loss: 1.6069e-11 - val_acc: 1.0000\n",
            "Epoch 90/100\n",
            "23/23 [==============================] - 7s 302ms/step - loss: 9.8042e-10 - acc: 1.0000 - val_loss: 1.6065e-11 - val_acc: 1.0000\n",
            "Epoch 91/100\n",
            "23/23 [==============================] - 7s 304ms/step - loss: 9.8026e-10 - acc: 1.0000 - val_loss: 1.6062e-11 - val_acc: 1.0000\n",
            "Epoch 92/100\n",
            "23/23 [==============================] - 7s 302ms/step - loss: 9.8012e-10 - acc: 1.0000 - val_loss: 1.6059e-11 - val_acc: 1.0000\n",
            "Epoch 93/100\n",
            "23/23 [==============================] - 7s 302ms/step - loss: 9.7997e-10 - acc: 1.0000 - val_loss: 1.6055e-11 - val_acc: 1.0000\n",
            "Epoch 94/100\n",
            "23/23 [==============================] - 7s 302ms/step - loss: 9.7980e-10 - acc: 1.0000 - val_loss: 1.6052e-11 - val_acc: 1.0000\n",
            "Epoch 95/100\n",
            "23/23 [==============================] - 7s 302ms/step - loss: 9.7965e-10 - acc: 1.0000 - val_loss: 1.6049e-11 - val_acc: 1.0000\n",
            "Epoch 96/100\n",
            "23/23 [==============================] - 7s 304ms/step - loss: 9.7950e-10 - acc: 1.0000 - val_loss: 1.6045e-11 - val_acc: 1.0000\n",
            "Epoch 97/100\n",
            "23/23 [==============================] - 7s 303ms/step - loss: 9.7933e-10 - acc: 1.0000 - val_loss: 1.6042e-11 - val_acc: 1.0000\n",
            "Epoch 98/100\n",
            "23/23 [==============================] - 7s 303ms/step - loss: 9.7917e-10 - acc: 1.0000 - val_loss: 1.6038e-11 - val_acc: 1.0000\n",
            "Epoch 99/100\n",
            "23/23 [==============================] - 7s 304ms/step - loss: 9.7899e-10 - acc: 1.0000 - val_loss: 1.6035e-11 - val_acc: 1.0000\n",
            "Epoch 100/100\n",
            "23/23 [==============================] - 7s 304ms/step - loss: 9.7883e-10 - acc: 1.0000 - val_loss: 1.6031e-11 - val_acc: 1.0000\n"
          ]
        }
      ]
    },
    {
      "cell_type": "code",
      "metadata": {
        "colab": {
          "base_uri": "https://localhost:8080/"
        },
        "id": "BysF04vnRMjo",
        "outputId": "3a76c61d-3e5e-42e2-cdd8-6c85674c2d87"
      },
      "source": [
        "from sklearn.metrics import classification_report\n",
        "#pred = model.predict_classes(x_test)\n",
        "pred = model.predict(x_val)\n",
        "labels = (pred > 0.5).astype(np.int)\n",
        "print('model 1')\n",
        "print(classification_report(y_val, labels))"
      ],
      "execution_count": null,
      "outputs": [
        {
          "output_type": "stream",
          "name": "stdout",
          "text": [
            "model 1\n",
            "              precision    recall  f1-score   support\n",
            "\n",
            "           0       1.00      1.00      1.00        10\n",
            "\n",
            "    accuracy                           1.00        10\n",
            "   macro avg       1.00      1.00      1.00        10\n",
            "weighted avg       1.00      1.00      1.00        10\n",
            "\n"
          ]
        }
      ]
    },
    {
      "cell_type": "code",
      "metadata": {
        "id": "rFEz9C9TaVZ8",
        "colab": {
          "base_uri": "https://localhost:8080/"
        },
        "outputId": "59e0f66f-cce6-4b46-f849-88fdb97504ef"
      },
      "source": [
        "# Model Scenario Kedua\n",
        "from tensorflow.keras.layers import GlobalAveragePooling2D\n",
        "model2 = Sequential()\n",
        "\n",
        "model2.add(InputLayer(input_shape=[150,150,3]))\n",
        "model2.add(Conv2D(filters=16, kernel_size=3, strides=1, padding='same', activation='relu'))\n",
        "model2.add(AveragePooling2D(pool_size=2, padding='same'))\n",
        "model2.add(Conv2D(filters=32, kernel_size=3, strides=1, padding='same', activation='relu'))\n",
        "model2.add(AveragePooling2D(pool_size=2, padding='same'))\n",
        "model2.add(Conv2D(filters=64, kernel_size=3, strides=1, padding='same', activation='relu'))\n",
        "model2.add(AveragePooling2D(pool_size=2, padding='same'))\n",
        "model2.add(GlobalAveragePooling2D())\n",
        "model2.add(Flatten())\n",
        "\n",
        "# Fully Connected Layer\n",
        "model2.add(Dense(128, activation='relu'))\n",
        "model2.add(Dense(1, activation='sigmoid'))\n",
        "\n",
        "print(model2.summary())"
      ],
      "execution_count": null,
      "outputs": [
        {
          "output_type": "stream",
          "name": "stdout",
          "text": [
            "Model: \"sequential_3\"\n",
            "_________________________________________________________________\n",
            "Layer (type)                 Output Shape              Param #   \n",
            "=================================================================\n",
            "conv2d_9 (Conv2D)            (None, 150, 150, 16)      448       \n",
            "_________________________________________________________________\n",
            "average_pooling2d_3 (Average (None, 75, 75, 16)        0         \n",
            "_________________________________________________________________\n",
            "conv2d_10 (Conv2D)           (None, 75, 75, 32)        4640      \n",
            "_________________________________________________________________\n",
            "average_pooling2d_4 (Average (None, 38, 38, 32)        0         \n",
            "_________________________________________________________________\n",
            "conv2d_11 (Conv2D)           (None, 38, 38, 64)        18496     \n",
            "_________________________________________________________________\n",
            "average_pooling2d_5 (Average (None, 19, 19, 64)        0         \n",
            "_________________________________________________________________\n",
            "global_average_pooling2d_1 ( (None, 64)                0         \n",
            "_________________________________________________________________\n",
            "flatten_3 (Flatten)          (None, 64)                0         \n",
            "_________________________________________________________________\n",
            "dense_6 (Dense)              (None, 128)               8320      \n",
            "_________________________________________________________________\n",
            "dense_7 (Dense)              (None, 1)                 129       \n",
            "=================================================================\n",
            "Total params: 32,033\n",
            "Trainable params: 32,033\n",
            "Non-trainable params: 0\n",
            "_________________________________________________________________\n",
            "None\n"
          ]
        }
      ]
    },
    {
      "cell_type": "code",
      "metadata": {
        "id": "R61mrlDIaWnA",
        "colab": {
          "base_uri": "https://localhost:8080/"
        },
        "outputId": "b674505f-5f67-4050-c750-da5015a886d6"
      },
      "source": [
        "# Compile model\n",
        "from tensorflow.keras.optimizers import Adam\n",
        "\n",
        "model2.compile(optimizer=Adam(lr=0.001), \n",
        "              loss='binary_crossentropy', \n",
        "              metrics=['acc'])"
      ],
      "execution_count": null,
      "outputs": [
        {
          "output_type": "stream",
          "name": "stderr",
          "text": [
            "/usr/local/lib/python3.7/dist-packages/keras/optimizer_v2/optimizer_v2.py:356: UserWarning: The `lr` argument is deprecated, use `learning_rate` instead.\n",
            "  \"The `lr` argument is deprecated, use `learning_rate` instead.\")\n"
          ]
        }
      ]
    },
    {
      "cell_type": "code",
      "metadata": {
        "id": "fsclR8psaYIR",
        "colab": {
          "base_uri": "https://localhost:8080/"
        },
        "outputId": "92e5b38e-fb10-4055-cbc9-bcf48db48c59"
      },
      "source": [
        "H2 = model2.fit(x_train, y_train, batch_size=20, epochs=100, validation_data=(x_val, y_val))"
      ],
      "execution_count": null,
      "outputs": [
        {
          "output_type": "stream",
          "name": "stdout",
          "text": [
            "Epoch 1/100\n",
            "23/23 [==============================] - 7s 277ms/step - loss: 0.2575 - acc: 1.0000 - val_loss: 4.9458e-07 - val_acc: 1.0000\n",
            "Epoch 2/100\n",
            "23/23 [==============================] - 6s 271ms/step - loss: 1.1797e-06 - acc: 1.0000 - val_loss: 2.6480e-14 - val_acc: 1.0000\n",
            "Epoch 3/100\n",
            "23/23 [==============================] - 6s 273ms/step - loss: 3.4112e-10 - acc: 1.0000 - val_loss: 1.9500e-15 - val_acc: 1.0000\n",
            "Epoch 4/100\n",
            "23/23 [==============================] - 6s 272ms/step - loss: 1.2483e-10 - acc: 1.0000 - val_loss: 1.4634e-15 - val_acc: 1.0000\n",
            "Epoch 5/100\n",
            "23/23 [==============================] - 6s 272ms/step - loss: 1.1012e-10 - acc: 1.0000 - val_loss: 1.4211e-15 - val_acc: 1.0000\n",
            "Epoch 6/100\n",
            "23/23 [==============================] - 6s 272ms/step - loss: 1.0926e-10 - acc: 1.0000 - val_loss: 1.4168e-15 - val_acc: 1.0000\n",
            "Epoch 7/100\n",
            "23/23 [==============================] - 6s 273ms/step - loss: 1.0919e-10 - acc: 1.0000 - val_loss: 1.4164e-15 - val_acc: 1.0000\n",
            "Epoch 8/100\n",
            "23/23 [==============================] - 6s 272ms/step - loss: 1.0918e-10 - acc: 1.0000 - val_loss: 1.4162e-15 - val_acc: 1.0000\n",
            "Epoch 9/100\n",
            "23/23 [==============================] - 6s 272ms/step - loss: 1.0917e-10 - acc: 1.0000 - val_loss: 1.4161e-15 - val_acc: 1.0000\n",
            "Epoch 10/100\n",
            "23/23 [==============================] - 6s 272ms/step - loss: 1.0917e-10 - acc: 1.0000 - val_loss: 1.4160e-15 - val_acc: 1.0000\n",
            "Epoch 11/100\n",
            "23/23 [==============================] - 6s 273ms/step - loss: 1.0916e-10 - acc: 1.0000 - val_loss: 1.4158e-15 - val_acc: 1.0000\n",
            "Epoch 12/100\n",
            "23/23 [==============================] - 6s 272ms/step - loss: 1.0915e-10 - acc: 1.0000 - val_loss: 1.4156e-15 - val_acc: 1.0000\n",
            "Epoch 13/100\n",
            "23/23 [==============================] - 6s 271ms/step - loss: 1.0915e-10 - acc: 1.0000 - val_loss: 1.4154e-15 - val_acc: 1.0000\n",
            "Epoch 14/100\n",
            "23/23 [==============================] - 6s 272ms/step - loss: 1.0914e-10 - acc: 1.0000 - val_loss: 1.4153e-15 - val_acc: 1.0000\n",
            "Epoch 15/100\n",
            "23/23 [==============================] - 6s 272ms/step - loss: 1.0913e-10 - acc: 1.0000 - val_loss: 1.4151e-15 - val_acc: 1.0000\n",
            "Epoch 16/100\n",
            "23/23 [==============================] - 6s 274ms/step - loss: 1.0912e-10 - acc: 1.0000 - val_loss: 1.4149e-15 - val_acc: 1.0000\n",
            "Epoch 17/100\n",
            "23/23 [==============================] - 6s 270ms/step - loss: 1.0911e-10 - acc: 1.0000 - val_loss: 1.4146e-15 - val_acc: 1.0000\n",
            "Epoch 18/100\n",
            "23/23 [==============================] - 6s 271ms/step - loss: 1.0910e-10 - acc: 1.0000 - val_loss: 1.4145e-15 - val_acc: 1.0000\n",
            "Epoch 19/100\n",
            "23/23 [==============================] - 6s 271ms/step - loss: 1.0909e-10 - acc: 1.0000 - val_loss: 1.4142e-15 - val_acc: 1.0000\n",
            "Epoch 20/100\n",
            "23/23 [==============================] - 6s 271ms/step - loss: 1.0908e-10 - acc: 1.0000 - val_loss: 1.4139e-15 - val_acc: 1.0000\n",
            "Epoch 21/100\n",
            "23/23 [==============================] - 6s 270ms/step - loss: 1.0907e-10 - acc: 1.0000 - val_loss: 1.4137e-15 - val_acc: 1.0000\n",
            "Epoch 22/100\n",
            "23/23 [==============================] - 6s 271ms/step - loss: 1.0906e-10 - acc: 1.0000 - val_loss: 1.4134e-15 - val_acc: 1.0000\n",
            "Epoch 23/100\n",
            "23/23 [==============================] - 6s 271ms/step - loss: 1.0905e-10 - acc: 1.0000 - val_loss: 1.4132e-15 - val_acc: 1.0000\n",
            "Epoch 24/100\n",
            "23/23 [==============================] - 6s 271ms/step - loss: 1.0904e-10 - acc: 1.0000 - val_loss: 1.4129e-15 - val_acc: 1.0000\n",
            "Epoch 25/100\n",
            "23/23 [==============================] - 6s 271ms/step - loss: 1.0902e-10 - acc: 1.0000 - val_loss: 1.4126e-15 - val_acc: 1.0000\n",
            "Epoch 26/100\n",
            "23/23 [==============================] - 6s 273ms/step - loss: 1.0901e-10 - acc: 1.0000 - val_loss: 1.4123e-15 - val_acc: 1.0000\n",
            "Epoch 27/100\n",
            "23/23 [==============================] - 6s 272ms/step - loss: 1.0900e-10 - acc: 1.0000 - val_loss: 1.4120e-15 - val_acc: 1.0000\n",
            "Epoch 28/100\n",
            "23/23 [==============================] - 6s 271ms/step - loss: 1.0898e-10 - acc: 1.0000 - val_loss: 1.4118e-15 - val_acc: 1.0000\n",
            "Epoch 29/100\n",
            "23/23 [==============================] - 6s 271ms/step - loss: 1.0897e-10 - acc: 1.0000 - val_loss: 1.4114e-15 - val_acc: 1.0000\n",
            "Epoch 30/100\n",
            "23/23 [==============================] - 6s 272ms/step - loss: 1.0896e-10 - acc: 1.0000 - val_loss: 1.4110e-15 - val_acc: 1.0000\n",
            "Epoch 31/100\n",
            "23/23 [==============================] - 6s 273ms/step - loss: 1.0895e-10 - acc: 1.0000 - val_loss: 1.4107e-15 - val_acc: 1.0000\n",
            "Epoch 32/100\n",
            "23/23 [==============================] - 6s 271ms/step - loss: 1.0893e-10 - acc: 1.0000 - val_loss: 1.4104e-15 - val_acc: 1.0000\n",
            "Epoch 33/100\n",
            "23/23 [==============================] - 6s 273ms/step - loss: 1.0891e-10 - acc: 1.0000 - val_loss: 1.4102e-15 - val_acc: 1.0000\n",
            "Epoch 34/100\n",
            "23/23 [==============================] - 6s 271ms/step - loss: 1.0890e-10 - acc: 1.0000 - val_loss: 1.4097e-15 - val_acc: 1.0000\n",
            "Epoch 35/100\n",
            "23/23 [==============================] - 6s 273ms/step - loss: 1.0889e-10 - acc: 1.0000 - val_loss: 1.4093e-15 - val_acc: 1.0000\n",
            "Epoch 36/100\n",
            "23/23 [==============================] - 6s 271ms/step - loss: 1.0887e-10 - acc: 1.0000 - val_loss: 1.4089e-15 - val_acc: 1.0000\n",
            "Epoch 37/100\n",
            "23/23 [==============================] - 6s 272ms/step - loss: 1.0885e-10 - acc: 1.0000 - val_loss: 1.4086e-15 - val_acc: 1.0000\n",
            "Epoch 38/100\n",
            "23/23 [==============================] - 6s 272ms/step - loss: 1.0884e-10 - acc: 1.0000 - val_loss: 1.4082e-15 - val_acc: 1.0000\n",
            "Epoch 39/100\n",
            "23/23 [==============================] - 6s 271ms/step - loss: 1.0882e-10 - acc: 1.0000 - val_loss: 1.4080e-15 - val_acc: 1.0000\n",
            "Epoch 40/100\n",
            "23/23 [==============================] - 6s 274ms/step - loss: 1.0880e-10 - acc: 1.0000 - val_loss: 1.4076e-15 - val_acc: 1.0000\n",
            "Epoch 41/100\n",
            "23/23 [==============================] - 6s 273ms/step - loss: 1.0879e-10 - acc: 1.0000 - val_loss: 1.4070e-15 - val_acc: 1.0000\n",
            "Epoch 42/100\n",
            "23/23 [==============================] - 6s 273ms/step - loss: 1.0877e-10 - acc: 1.0000 - val_loss: 1.4067e-15 - val_acc: 1.0000\n",
            "Epoch 43/100\n",
            "23/23 [==============================] - 6s 274ms/step - loss: 1.0875e-10 - acc: 1.0000 - val_loss: 1.4062e-15 - val_acc: 1.0000\n",
            "Epoch 44/100\n",
            "23/23 [==============================] - 6s 271ms/step - loss: 1.0873e-10 - acc: 1.0000 - val_loss: 1.4058e-15 - val_acc: 1.0000\n",
            "Epoch 45/100\n",
            "23/23 [==============================] - 6s 273ms/step - loss: 1.0871e-10 - acc: 1.0000 - val_loss: 1.4055e-15 - val_acc: 1.0000\n",
            "Epoch 46/100\n",
            "23/23 [==============================] - 6s 272ms/step - loss: 1.0870e-10 - acc: 1.0000 - val_loss: 1.4050e-15 - val_acc: 1.0000\n",
            "Epoch 47/100\n",
            "23/23 [==============================] - 6s 274ms/step - loss: 1.0868e-10 - acc: 1.0000 - val_loss: 1.4046e-15 - val_acc: 1.0000\n",
            "Epoch 48/100\n",
            "23/23 [==============================] - 6s 273ms/step - loss: 1.0866e-10 - acc: 1.0000 - val_loss: 1.4040e-15 - val_acc: 1.0000\n",
            "Epoch 49/100\n",
            "23/23 [==============================] - 6s 271ms/step - loss: 1.0864e-10 - acc: 1.0000 - val_loss: 1.4037e-15 - val_acc: 1.0000\n",
            "Epoch 50/100\n",
            "23/23 [==============================] - 6s 273ms/step - loss: 1.0862e-10 - acc: 1.0000 - val_loss: 1.4031e-15 - val_acc: 1.0000\n",
            "Epoch 51/100\n",
            "23/23 [==============================] - 6s 272ms/step - loss: 1.0860e-10 - acc: 1.0000 - val_loss: 1.4028e-15 - val_acc: 1.0000\n",
            "Epoch 52/100\n",
            "23/23 [==============================] - 6s 272ms/step - loss: 1.0858e-10 - acc: 1.0000 - val_loss: 1.4021e-15 - val_acc: 1.0000\n",
            "Epoch 53/100\n",
            "23/23 [==============================] - 6s 272ms/step - loss: 1.0856e-10 - acc: 1.0000 - val_loss: 1.4017e-15 - val_acc: 1.0000\n",
            "Epoch 54/100\n",
            "23/23 [==============================] - 6s 272ms/step - loss: 1.0853e-10 - acc: 1.0000 - val_loss: 1.4012e-15 - val_acc: 1.0000\n",
            "Epoch 55/100\n",
            "23/23 [==============================] - 6s 274ms/step - loss: 1.0851e-10 - acc: 1.0000 - val_loss: 1.4008e-15 - val_acc: 1.0000\n",
            "Epoch 56/100\n",
            "23/23 [==============================] - 6s 272ms/step - loss: 1.0849e-10 - acc: 1.0000 - val_loss: 1.4003e-15 - val_acc: 1.0000\n",
            "Epoch 57/100\n",
            "23/23 [==============================] - 6s 274ms/step - loss: 1.0847e-10 - acc: 1.0000 - val_loss: 1.3997e-15 - val_acc: 1.0000\n",
            "Epoch 58/100\n",
            "23/23 [==============================] - 6s 271ms/step - loss: 1.0845e-10 - acc: 1.0000 - val_loss: 1.3991e-15 - val_acc: 1.0000\n",
            "Epoch 59/100\n",
            "23/23 [==============================] - 6s 272ms/step - loss: 1.0842e-10 - acc: 1.0000 - val_loss: 1.3988e-15 - val_acc: 1.0000\n",
            "Epoch 60/100\n",
            "23/23 [==============================] - 6s 271ms/step - loss: 1.0841e-10 - acc: 1.0000 - val_loss: 1.3981e-15 - val_acc: 1.0000\n",
            "Epoch 61/100\n",
            "23/23 [==============================] - 6s 273ms/step - loss: 1.0838e-10 - acc: 1.0000 - val_loss: 1.3975e-15 - val_acc: 1.0000\n",
            "Epoch 62/100\n",
            "23/23 [==============================] - 6s 272ms/step - loss: 1.0835e-10 - acc: 1.0000 - val_loss: 1.3971e-15 - val_acc: 1.0000\n",
            "Epoch 63/100\n",
            "23/23 [==============================] - 6s 273ms/step - loss: 1.0833e-10 - acc: 1.0000 - val_loss: 1.3964e-15 - val_acc: 1.0000\n",
            "Epoch 64/100\n",
            "23/23 [==============================] - 6s 272ms/step - loss: 1.0830e-10 - acc: 1.0000 - val_loss: 1.3958e-15 - val_acc: 1.0000\n",
            "Epoch 65/100\n",
            "23/23 [==============================] - 6s 271ms/step - loss: 1.0828e-10 - acc: 1.0000 - val_loss: 1.3954e-15 - val_acc: 1.0000\n",
            "Epoch 66/100\n",
            "23/23 [==============================] - 6s 271ms/step - loss: 1.0826e-10 - acc: 1.0000 - val_loss: 1.3948e-15 - val_acc: 1.0000\n",
            "Epoch 67/100\n",
            "23/23 [==============================] - 6s 273ms/step - loss: 1.0823e-10 - acc: 1.0000 - val_loss: 1.3941e-15 - val_acc: 1.0000\n",
            "Epoch 68/100\n",
            "23/23 [==============================] - 6s 272ms/step - loss: 1.0820e-10 - acc: 1.0000 - val_loss: 1.3934e-15 - val_acc: 1.0000\n",
            "Epoch 69/100\n",
            "23/23 [==============================] - 6s 273ms/step - loss: 1.0818e-10 - acc: 1.0000 - val_loss: 1.3929e-15 - val_acc: 1.0000\n",
            "Epoch 70/100\n",
            "23/23 [==============================] - 6s 272ms/step - loss: 1.0815e-10 - acc: 1.0000 - val_loss: 1.3922e-15 - val_acc: 1.0000\n",
            "Epoch 71/100\n",
            "23/23 [==============================] - 6s 273ms/step - loss: 1.0812e-10 - acc: 1.0000 - val_loss: 1.3917e-15 - val_acc: 1.0000\n",
            "Epoch 72/100\n",
            "23/23 [==============================] - 6s 271ms/step - loss: 1.0810e-10 - acc: 1.0000 - val_loss: 1.3911e-15 - val_acc: 1.0000\n",
            "Epoch 73/100\n",
            "23/23 [==============================] - 6s 272ms/step - loss: 1.0807e-10 - acc: 1.0000 - val_loss: 1.3904e-15 - val_acc: 1.0000\n",
            "Epoch 74/100\n",
            "23/23 [==============================] - 6s 272ms/step - loss: 1.0805e-10 - acc: 1.0000 - val_loss: 1.3897e-15 - val_acc: 1.0000\n",
            "Epoch 75/100\n",
            "23/23 [==============================] - 6s 272ms/step - loss: 1.0802e-10 - acc: 1.0000 - val_loss: 1.3890e-15 - val_acc: 1.0000\n",
            "Epoch 76/100\n",
            "23/23 [==============================] - 6s 272ms/step - loss: 1.0798e-10 - acc: 1.0000 - val_loss: 1.3884e-15 - val_acc: 1.0000\n",
            "Epoch 77/100\n",
            "23/23 [==============================] - 6s 271ms/step - loss: 1.0796e-10 - acc: 1.0000 - val_loss: 1.3878e-15 - val_acc: 1.0000\n",
            "Epoch 78/100\n",
            "23/23 [==============================] - 6s 272ms/step - loss: 1.0793e-10 - acc: 1.0000 - val_loss: 1.3874e-15 - val_acc: 1.0000\n",
            "Epoch 79/100\n",
            "23/23 [==============================] - 6s 274ms/step - loss: 1.0790e-10 - acc: 1.0000 - val_loss: 1.3865e-15 - val_acc: 1.0000\n",
            "Epoch 80/100\n",
            "23/23 [==============================] - 6s 270ms/step - loss: 1.0787e-10 - acc: 1.0000 - val_loss: 1.3857e-15 - val_acc: 1.0000\n",
            "Epoch 81/100\n",
            "23/23 [==============================] - 6s 273ms/step - loss: 1.0784e-10 - acc: 1.0000 - val_loss: 1.3850e-15 - val_acc: 1.0000\n",
            "Epoch 82/100\n",
            "23/23 [==============================] - 6s 271ms/step - loss: 1.0781e-10 - acc: 1.0000 - val_loss: 1.3842e-15 - val_acc: 1.0000\n",
            "Epoch 83/100\n",
            "23/23 [==============================] - 6s 273ms/step - loss: 1.0777e-10 - acc: 1.0000 - val_loss: 1.3837e-15 - val_acc: 1.0000\n",
            "Epoch 84/100\n",
            "23/23 [==============================] - 6s 272ms/step - loss: 1.0774e-10 - acc: 1.0000 - val_loss: 1.3830e-15 - val_acc: 1.0000\n",
            "Epoch 85/100\n",
            "23/23 [==============================] - 6s 271ms/step - loss: 1.0771e-10 - acc: 1.0000 - val_loss: 1.3824e-15 - val_acc: 1.0000\n",
            "Epoch 86/100\n",
            "23/23 [==============================] - 6s 273ms/step - loss: 1.0768e-10 - acc: 1.0000 - val_loss: 1.3815e-15 - val_acc: 1.0000\n",
            "Epoch 87/100\n",
            "23/23 [==============================] - 6s 272ms/step - loss: 1.0765e-10 - acc: 1.0000 - val_loss: 1.3807e-15 - val_acc: 1.0000\n",
            "Epoch 88/100\n",
            "23/23 [==============================] - 6s 273ms/step - loss: 1.0762e-10 - acc: 1.0000 - val_loss: 1.3799e-15 - val_acc: 1.0000\n",
            "Epoch 89/100\n",
            "23/23 [==============================] - 6s 272ms/step - loss: 1.0758e-10 - acc: 1.0000 - val_loss: 1.3793e-15 - val_acc: 1.0000\n",
            "Epoch 90/100\n",
            "23/23 [==============================] - 6s 272ms/step - loss: 1.0755e-10 - acc: 1.0000 - val_loss: 1.3785e-15 - val_acc: 1.0000\n",
            "Epoch 91/100\n",
            "23/23 [==============================] - 6s 272ms/step - loss: 1.0752e-10 - acc: 1.0000 - val_loss: 1.3776e-15 - val_acc: 1.0000\n",
            "Epoch 92/100\n",
            "23/23 [==============================] - 6s 274ms/step - loss: 1.0748e-10 - acc: 1.0000 - val_loss: 1.3768e-15 - val_acc: 1.0000\n",
            "Epoch 93/100\n",
            "23/23 [==============================] - 6s 272ms/step - loss: 1.0744e-10 - acc: 1.0000 - val_loss: 1.3763e-15 - val_acc: 1.0000\n",
            "Epoch 94/100\n",
            "23/23 [==============================] - 6s 271ms/step - loss: 1.0742e-10 - acc: 1.0000 - val_loss: 1.3752e-15 - val_acc: 1.0000\n",
            "Epoch 95/100\n",
            "23/23 [==============================] - 6s 272ms/step - loss: 1.0737e-10 - acc: 1.0000 - val_loss: 1.3745e-15 - val_acc: 1.0000\n",
            "Epoch 96/100\n",
            "23/23 [==============================] - 6s 273ms/step - loss: 1.0734e-10 - acc: 1.0000 - val_loss: 1.3738e-15 - val_acc: 1.0000\n",
            "Epoch 97/100\n",
            "23/23 [==============================] - 6s 272ms/step - loss: 1.0730e-10 - acc: 1.0000 - val_loss: 1.3731e-15 - val_acc: 1.0000\n",
            "Epoch 98/100\n",
            "23/23 [==============================] - 6s 272ms/step - loss: 1.0728e-10 - acc: 1.0000 - val_loss: 1.3719e-15 - val_acc: 1.0000\n",
            "Epoch 99/100\n",
            "23/23 [==============================] - 6s 271ms/step - loss: 1.0723e-10 - acc: 1.0000 - val_loss: 1.3710e-15 - val_acc: 1.0000\n",
            "Epoch 100/100\n",
            "23/23 [==============================] - 6s 272ms/step - loss: 1.0719e-10 - acc: 1.0000 - val_loss: 1.3705e-15 - val_acc: 1.0000\n"
          ]
        }
      ]
    },
    {
      "cell_type": "code",
      "metadata": {
        "colab": {
          "base_uri": "https://localhost:8080/"
        },
        "id": "5IUdK9qlRSpC",
        "outputId": "c41ec0c5-2a87-4821-e639-83cf17417784"
      },
      "source": [
        "#pred2 = model2.predict_classes(x_test)\n",
        "pred2 = model2.predict(x_val)\n",
        "labels2 = (pred2 > 0.5).astype(np.int)\n",
        "print('model 2')\n",
        "print(classification_report(y_val, labels2))"
      ],
      "execution_count": null,
      "outputs": [
        {
          "output_type": "stream",
          "name": "stdout",
          "text": [
            "model 2\n",
            "              precision    recall  f1-score   support\n",
            "\n",
            "           0       1.00      1.00      1.00        10\n",
            "\n",
            "    accuracy                           1.00        10\n",
            "   macro avg       1.00      1.00      1.00        10\n",
            "weighted avg       1.00      1.00      1.00        10\n",
            "\n"
          ]
        }
      ]
    }
  ]
}